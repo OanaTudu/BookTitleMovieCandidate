{
 "cells": [
  {
   "cell_type": "code",
   "execution_count": 2,
   "metadata": {},
   "outputs": [],
   "source": [
    "import pandas as pd\n",
    "import numpy as np\n",
    "import matplotlib.pyplot as plt\n",
    "import seaborn as sns"
   ]
  },
  {
   "cell_type": "code",
   "execution_count": 3,
   "metadata": {},
   "outputs": [
    {
     "name": "stderr",
     "output_type": "stream",
     "text": [
      "/Users/oana/anaconda3/lib/python3.6/site-packages/IPython/core/interactiveshell.py:2785: DtypeWarning: Columns (5) have mixed types. Specify dtype option on import or set low_memory=False.\n",
      "  interactivity=interactivity, compiler=compiler, result=result)\n"
     ]
    }
   ],
   "source": [
    "#load the data from csv file:\n",
    "df = pd.read_csv('Checkouts_by_Title.csv')"
   ]
  },
  {
   "cell_type": "markdown",
   "metadata": {},
   "source": [
    "Quick look at the data:"
   ]
  },
  {
   "cell_type": "code",
   "execution_count": 4,
   "metadata": {},
   "outputs": [
    {
     "name": "stdout",
     "output_type": "stream",
     "text": [
      "<class 'pandas.core.frame.DataFrame'>\n",
      "RangeIndex: 34464167 entries, 0 to 34464166\n",
      "Data columns (total 11 columns):\n",
      "UsageClass         object\n",
      "CheckoutType       object\n",
      "MaterialType       object\n",
      "CheckoutYear       int64\n",
      "CheckoutMonth      int64\n",
      "Checkouts          object\n",
      "Title              object\n",
      "Creator            object\n",
      "Subjects           object\n",
      "Publisher          object\n",
      "PublicationYear    object\n",
      "dtypes: int64(2), object(9)\n",
      "memory usage: 2.8+ GB\n",
      "None\n"
     ]
    }
   ],
   "source": [
    "print(df.info())"
   ]
  },
  {
   "cell_type": "markdown",
   "metadata": {},
   "source": [
    "In order to select a subset, I am going to look at the Subjects column. First, let's see how specific the information in this column is (can I extract genre out of it easily?). Print the number of different Subjects contents in the whole database:"
   ]
  },
  {
   "cell_type": "code",
   "execution_count": 5,
   "metadata": {},
   "outputs": [
    {
     "data": {
      "text/plain": [
       "805197"
      ]
     },
     "execution_count": 5,
     "metadata": {},
     "output_type": "execute_result"
    }
   ],
   "source": [
    "len(df.Subjects.unique())"
   ]
  },
  {
   "cell_type": "markdown",
   "metadata": {},
   "source": [
    "That's a lot of different things to have in the Subjects, which possibly means that the Subjects are lists that have little overlap. I am going to have to look at some examples to get an idea of what the Subjects columns contain:"
   ]
  },
  {
   "cell_type": "code",
   "execution_count": 6,
   "metadata": {},
   "outputs": [
    {
     "name": "stdout",
     "output_type": "stream",
     "text": [
      "  UsageClass CheckoutType MaterialType  CheckoutYear  CheckoutMonth Checkouts  \\\n",
      "0   Physical      Horizon         BOOK          2018              2         3   \n",
      "1    Digital    OverDrive        EBOOK          2018              2        12   \n",
      "2    Digital       Hoopla        MUSIC          2018              2         1   \n",
      "3   Physical      Horizon         BOOK          2018              2         1   \n",
      "4    Digital    OverDrive        EBOOK          2018              2         2   \n",
      "\n",
      "                                               Title  \\\n",
      "0  Austria / main contributors, Teresa Czerniewic...   \n",
      "1  A Random Walk Down Wall Street: The Time-Teste...   \n",
      "2                               Alone Aboard the Ark   \n",
      "3  One minute mysteries : 65 short mysteries you ...   \n",
      "4  Bonjour Kale: A Memoir of Paris, Love, and Rec...   \n",
      "\n",
      "                    Creator  \\\n",
      "0  Czerniewicz-Umer, Teresa   \n",
      "1         Burton G. Malkiel   \n",
      "2                       NaN   \n",
      "3               Yoder, Eric   \n",
      "4           Kristen Beddard   \n",
      "\n",
      "                                            Subjects               Publisher  \\\n",
      "0  Austria Description and travel, Austria Guideb...          DK Publishing,   \n",
      "1                      Business, Finance, Nonfiction  W. W. Norton & Company   \n",
      "2                                        Alternative         Full Time Hobby   \n",
      "3  Science Methodology Juvenile literature, Scien...    Science, Naturally!,   \n",
      "4  Biography & Autobiography, Cooking & Food, Non...             Sourcebooks   \n",
      "\n",
      "  PublicationYear  \n",
      "0          [2016]  \n",
      "1            2015  \n",
      "2             NaN  \n",
      "3           2008.  \n",
      "4            2017  \n"
     ]
    },
    {
     "data": {
      "text/plain": [
       "array(['Business, Finance, Nonfiction', 'Alternative',\n",
       "       'Science Methodology Juvenile literature, Science Miscellanea Juvenile literature, Science Study and teaching Middle school Juvenile literature, Mystery and detective stories, Mystery fiction',\n",
       "       'Biography & Autobiography, Cooking & Food, Nonfiction',\n",
       "       'Crafts, Nature, Nonfiction',\n",
       "       'Police California Los Angeles Drama, Criminal investigation California Los Angeles Drama, Police corruption California Los Angeles Drama, Police corruption Drama, Inner cities California Los Angeles Drama, Crime California Los Angeles Drama, Los Angeles Calif Drama, Television programs, Fiction television programs, Television cop shows, Thrillers Television programs, Video recordings for the hearing impaired',\n",
       "       'Trump Donald 1946, Trump Donald 1946 Political and social views, Republican Party U S 1854, Presidents United States Election 2016, United States Politics and government 2009',\n",
       "       'Dante Alighieri 1265 1321 Divina commedia',\n",
       "       'Libraries Juvenile literature',\n",
       "       'Austin Kurt Fictitious character Fiction, Marine scientists Fiction, Suspense fiction, Adventure fiction',\n",
       "       'Fiction, Romance', 'Fantasy, Fiction, Literature',\n",
       "       'Jazz rock Music, Jazz 1971 1980, Trumpet music Jazz', nan,\n",
       "       'Fiction, Literature', 'American poetry',\n",
       "       'Farm life Florida Juvenile fiction, Country life Florida Juvenile fiction, Florida History 20th century Juvenile fiction',\n",
       "       'Beginning Reader, Humor (Fiction), Juvenile Fiction, Science Fiction',\n",
       "       'Fantasy, Fiction'], dtype=object)"
      ]
     },
     "execution_count": 6,
     "metadata": {},
     "output_type": "execute_result"
    }
   ],
   "source": [
    "print(df.head())\n",
    "df.Subjects.unique()[1:20]"
   ]
  },
  {
   "cell_type": "markdown",
   "metadata": {},
   "source": [
    "The Subjects column indeed contains a list of tag words or phrases, some that pop out - also as genres - are juvenile fiction, young adult fiction, Fantasy, Romance. Also notable, there are lots of entries that are not books at all, but rather music (recordings or sheet music) or films. Since it looks like the column MaterialType contains information about the medium of the item, let's check it out and see if we can eliminate anything that's not a book:"
   ]
  },
  {
   "cell_type": "code",
   "execution_count": 7,
   "metadata": {},
   "outputs": [
    {
     "data": {
      "text/plain": [
       "array(['BOOK', 'EBOOK', 'MUSIC', 'VIDEODISC', 'AUDIOBOOK', 'SOUNDDISC',\n",
       "       'SONG', 'COMIC', 'CR', 'MAGAZINE', 'TELEVISION', 'MOVIE',\n",
       "       'VIDEOCASS', 'SOUNDDISC, VIDEODISC', 'REGPRINT', 'VIDEO', 'ATLAS',\n",
       "       'ER, VIDEODISC', 'ER', 'SOUNDREC', 'LARGEPRINT', 'ER, SOUNDDISC',\n",
       "       'REGPRINT, SOUNDDISC', 'MAP', 'VISUAL', 'MIXED', 'VIDEOCART',\n",
       "       'VIDEOCASS, VIDEODISC', 'MUSICSNDREC', 'NOTATEDMUSIC',\n",
       "       'SOUNDDISC, SOUNDREC', 'ER, REGPRINT', 'REGPRINT, VIDEOREC',\n",
       "       'ER, NONPROJGRAPH', 'VIDEOREC', 'UNSPECIFIED', 'SOUNDCASS',\n",
       "       'MICROFORM', 'GLOBE', 'FLASHCARD, SOUNDDISC', 'KIT', 'ER, PRINT',\n",
       "       'FLASHCARD', 'SOUNDDISC, VIDEOCASS', 'SOUNDCASS, SOUNDDISC',\n",
       "       'PICTURE', 'PRINT', 'COMPFILE', 'NONPROJGRAPH', 'SLIDE, SOUNDCASS',\n",
       "       'SOUNDCASS, SOUNDDISC, VIDEOCASS, VIDEODISC', 'ER, VIDEOREC',\n",
       "       'REMOTESEN', 'ER, MAP', 'SLIDE', 'SLIDE, SOUNDCASS, VIDEOCASS',\n",
       "       'SLIDE, VIDEOCASS', 'SOUNDCASS, VIDEOCASS', 'ATLAS, ER', 'CHART',\n",
       "       'PICTURE, VIDEODISC', 'ER, SOUNDDISC, VIDEODISC', 'ER, VIDEOCASS',\n",
       "       'ER, PICTURE', 'MAP, VIEW', 'SECTION'], dtype=object)"
      ]
     },
     "execution_count": 7,
     "metadata": {},
     "output_type": "execute_result"
    }
   ],
   "source": [
    "df.MaterialType.unique()"
   ]
  },
  {
   "cell_type": "markdown",
   "metadata": {},
   "source": [
    "Most of the values in this column are video or audio files of some sort, and it seems that the word \"BOOK\" will be a good way to isolate just the books from the database:"
   ]
  },
  {
   "cell_type": "code",
   "execution_count": 8,
   "metadata": {},
   "outputs": [
    {
     "name": "stdout",
     "output_type": "stream",
     "text": [
      "<class 'pandas.core.frame.DataFrame'>\n",
      "Int64Index: 25021025 entries, 0 to 34464166\n",
      "Data columns (total 11 columns):\n",
      "UsageClass         object\n",
      "CheckoutType       object\n",
      "MaterialType       object\n",
      "CheckoutYear       int64\n",
      "CheckoutMonth      int64\n",
      "Checkouts          object\n",
      "Title              object\n",
      "Creator            object\n",
      "Subjects           object\n",
      "Publisher          object\n",
      "PublicationYear    object\n",
      "dtypes: int64(2), object(9)\n",
      "memory usage: 2.2+ GB\n"
     ]
    }
   ],
   "source": [
    "df = df[df['MaterialType'].str.contains(\"BOOK\")==True]\n",
    "df.info()"
   ]
  },
  {
   "cell_type": "code",
   "execution_count": 9,
   "metadata": {},
   "outputs": [
    {
     "data": {
      "text/html": [
       "<div>\n",
       "<style scoped>\n",
       "    .dataframe tbody tr th:only-of-type {\n",
       "        vertical-align: middle;\n",
       "    }\n",
       "\n",
       "    .dataframe tbody tr th {\n",
       "        vertical-align: top;\n",
       "    }\n",
       "\n",
       "    .dataframe thead th {\n",
       "        text-align: right;\n",
       "    }\n",
       "</style>\n",
       "<table border=\"1\" class=\"dataframe\">\n",
       "  <thead>\n",
       "    <tr style=\"text-align: right;\">\n",
       "      <th></th>\n",
       "      <th>UsageClass</th>\n",
       "      <th>CheckoutType</th>\n",
       "      <th>MaterialType</th>\n",
       "      <th>CheckoutYear</th>\n",
       "      <th>CheckoutMonth</th>\n",
       "      <th>Checkouts</th>\n",
       "      <th>Title</th>\n",
       "      <th>Creator</th>\n",
       "      <th>Subjects</th>\n",
       "      <th>Publisher</th>\n",
       "      <th>PublicationYear</th>\n",
       "    </tr>\n",
       "  </thead>\n",
       "  <tbody>\n",
       "    <tr>\n",
       "      <th>0</th>\n",
       "      <td>Physical</td>\n",
       "      <td>Horizon</td>\n",
       "      <td>BOOK</td>\n",
       "      <td>2018</td>\n",
       "      <td>2</td>\n",
       "      <td>3</td>\n",
       "      <td>Austria / main contributors, Teresa Czerniewic...</td>\n",
       "      <td>Czerniewicz-Umer, Teresa</td>\n",
       "      <td>Austria Description and travel, Austria Guideb...</td>\n",
       "      <td>DK Publishing,</td>\n",
       "      <td>[2016]</td>\n",
       "    </tr>\n",
       "    <tr>\n",
       "      <th>1</th>\n",
       "      <td>Digital</td>\n",
       "      <td>OverDrive</td>\n",
       "      <td>EBOOK</td>\n",
       "      <td>2018</td>\n",
       "      <td>2</td>\n",
       "      <td>12</td>\n",
       "      <td>A Random Walk Down Wall Street: The Time-Teste...</td>\n",
       "      <td>Burton G. Malkiel</td>\n",
       "      <td>Business, Finance, Nonfiction</td>\n",
       "      <td>W. W. Norton &amp; Company</td>\n",
       "      <td>2015</td>\n",
       "    </tr>\n",
       "    <tr>\n",
       "      <th>3</th>\n",
       "      <td>Physical</td>\n",
       "      <td>Horizon</td>\n",
       "      <td>BOOK</td>\n",
       "      <td>2018</td>\n",
       "      <td>2</td>\n",
       "      <td>1</td>\n",
       "      <td>One minute mysteries : 65 short mysteries you ...</td>\n",
       "      <td>Yoder, Eric</td>\n",
       "      <td>Science Methodology Juvenile literature, Scien...</td>\n",
       "      <td>Science, Naturally!,</td>\n",
       "      <td>2008.</td>\n",
       "    </tr>\n",
       "    <tr>\n",
       "      <th>4</th>\n",
       "      <td>Digital</td>\n",
       "      <td>OverDrive</td>\n",
       "      <td>EBOOK</td>\n",
       "      <td>2018</td>\n",
       "      <td>2</td>\n",
       "      <td>2</td>\n",
       "      <td>Bonjour Kale: A Memoir of Paris, Love, and Rec...</td>\n",
       "      <td>Kristen Beddard</td>\n",
       "      <td>Biography &amp; Autobiography, Cooking &amp; Food, Non...</td>\n",
       "      <td>Sourcebooks</td>\n",
       "      <td>2017</td>\n",
       "    </tr>\n",
       "    <tr>\n",
       "      <th>5</th>\n",
       "      <td>Digital</td>\n",
       "      <td>OverDrive</td>\n",
       "      <td>EBOOK</td>\n",
       "      <td>2018</td>\n",
       "      <td>2</td>\n",
       "      <td>3</td>\n",
       "      <td>The Man Who Made Things Out of Trees: The Ash ...</td>\n",
       "      <td>Robert Penn</td>\n",
       "      <td>Crafts, Nature, Nonfiction</td>\n",
       "      <td>W. W. Norton &amp; Company</td>\n",
       "      <td>2016</td>\n",
       "    </tr>\n",
       "    <tr>\n",
       "      <th>7</th>\n",
       "      <td>Physical</td>\n",
       "      <td>Horizon</td>\n",
       "      <td>BOOK</td>\n",
       "      <td>2018</td>\n",
       "      <td>2</td>\n",
       "      <td>1</td>\n",
       "      <td>Big agenda : President Trump's plan to save Am...</td>\n",
       "      <td>Horowitz, David, 1939-</td>\n",
       "      <td>Trump Donald 1946, Trump Donald 1946 Political...</td>\n",
       "      <td>Humanix Books,</td>\n",
       "      <td>c2017.</td>\n",
       "    </tr>\n",
       "    <tr>\n",
       "      <th>8</th>\n",
       "      <td>Physical</td>\n",
       "      <td>Horizon</td>\n",
       "      <td>BOOK</td>\n",
       "      <td>2018</td>\n",
       "      <td>2</td>\n",
       "      <td>2</td>\n",
       "      <td>The divine comedy / Dante Alighieri ; translat...</td>\n",
       "      <td>Dante Alighieri, 1265-1321</td>\n",
       "      <td>Dante Alighieri 1265 1321 Divina commedia</td>\n",
       "      <td>Knopf : Distributed by Random House,</td>\n",
       "      <td>[1995]</td>\n",
       "    </tr>\n",
       "    <tr>\n",
       "      <th>9</th>\n",
       "      <td>Physical</td>\n",
       "      <td>Horizon</td>\n",
       "      <td>BOOK</td>\n",
       "      <td>2018</td>\n",
       "      <td>2</td>\n",
       "      <td>1</td>\n",
       "      <td>The library / by B.A. Hoena.</td>\n",
       "      <td>Hoena, B. A.</td>\n",
       "      <td>Libraries Juvenile literature</td>\n",
       "      <td>Pebble Plus/Capstone Press,</td>\n",
       "      <td>[2004]</td>\n",
       "    </tr>\n",
       "    <tr>\n",
       "      <th>10</th>\n",
       "      <td>Physical</td>\n",
       "      <td>Horizon</td>\n",
       "      <td>BOOK</td>\n",
       "      <td>2018</td>\n",
       "      <td>2</td>\n",
       "      <td>2</td>\n",
       "      <td>The pharaoh's secret : a novel from the NUMA f...</td>\n",
       "      <td>Cussler, Clive</td>\n",
       "      <td>Austin Kurt Fictitious character Fiction, Mari...</td>\n",
       "      <td>G.P. Putnam's Sons,</td>\n",
       "      <td>[2015]</td>\n",
       "    </tr>\n",
       "    <tr>\n",
       "      <th>11</th>\n",
       "      <td>Digital</td>\n",
       "      <td>OverDrive</td>\n",
       "      <td>EBOOK</td>\n",
       "      <td>2018</td>\n",
       "      <td>2</td>\n",
       "      <td>1</td>\n",
       "      <td>A Texan's Luck: The Wife Lottery Series, Book 3</td>\n",
       "      <td>Jodi Thomas</td>\n",
       "      <td>Fiction, Romance</td>\n",
       "      <td>Penguin Group (USA), Inc.</td>\n",
       "      <td>2013</td>\n",
       "    </tr>\n",
       "  </tbody>\n",
       "</table>\n",
       "</div>"
      ],
      "text/plain": [
       "   UsageClass CheckoutType MaterialType  CheckoutYear  CheckoutMonth  \\\n",
       "0    Physical      Horizon         BOOK          2018              2   \n",
       "1     Digital    OverDrive        EBOOK          2018              2   \n",
       "3    Physical      Horizon         BOOK          2018              2   \n",
       "4     Digital    OverDrive        EBOOK          2018              2   \n",
       "5     Digital    OverDrive        EBOOK          2018              2   \n",
       "7    Physical      Horizon         BOOK          2018              2   \n",
       "8    Physical      Horizon         BOOK          2018              2   \n",
       "9    Physical      Horizon         BOOK          2018              2   \n",
       "10   Physical      Horizon         BOOK          2018              2   \n",
       "11    Digital    OverDrive        EBOOK          2018              2   \n",
       "\n",
       "   Checkouts                                              Title  \\\n",
       "0          3  Austria / main contributors, Teresa Czerniewic...   \n",
       "1         12  A Random Walk Down Wall Street: The Time-Teste...   \n",
       "3          1  One minute mysteries : 65 short mysteries you ...   \n",
       "4          2  Bonjour Kale: A Memoir of Paris, Love, and Rec...   \n",
       "5          3  The Man Who Made Things Out of Trees: The Ash ...   \n",
       "7          1  Big agenda : President Trump's plan to save Am...   \n",
       "8          2  The divine comedy / Dante Alighieri ; translat...   \n",
       "9          1                       The library / by B.A. Hoena.   \n",
       "10         2  The pharaoh's secret : a novel from the NUMA f...   \n",
       "11         1    A Texan's Luck: The Wife Lottery Series, Book 3   \n",
       "\n",
       "                       Creator  \\\n",
       "0     Czerniewicz-Umer, Teresa   \n",
       "1            Burton G. Malkiel   \n",
       "3                  Yoder, Eric   \n",
       "4              Kristen Beddard   \n",
       "5                  Robert Penn   \n",
       "7       Horowitz, David, 1939-   \n",
       "8   Dante Alighieri, 1265-1321   \n",
       "9                 Hoena, B. A.   \n",
       "10              Cussler, Clive   \n",
       "11                 Jodi Thomas   \n",
       "\n",
       "                                             Subjects  \\\n",
       "0   Austria Description and travel, Austria Guideb...   \n",
       "1                       Business, Finance, Nonfiction   \n",
       "3   Science Methodology Juvenile literature, Scien...   \n",
       "4   Biography & Autobiography, Cooking & Food, Non...   \n",
       "5                          Crafts, Nature, Nonfiction   \n",
       "7   Trump Donald 1946, Trump Donald 1946 Political...   \n",
       "8           Dante Alighieri 1265 1321 Divina commedia   \n",
       "9                       Libraries Juvenile literature   \n",
       "10  Austin Kurt Fictitious character Fiction, Mari...   \n",
       "11                                   Fiction, Romance   \n",
       "\n",
       "                               Publisher PublicationYear  \n",
       "0                         DK Publishing,          [2016]  \n",
       "1                 W. W. Norton & Company            2015  \n",
       "3                   Science, Naturally!,           2008.  \n",
       "4                            Sourcebooks            2017  \n",
       "5                 W. W. Norton & Company            2016  \n",
       "7                         Humanix Books,          c2017.  \n",
       "8   Knopf : Distributed by Random House,          [1995]  \n",
       "9            Pebble Plus/Capstone Press,          [2004]  \n",
       "10                   G.P. Putnam's Sons,          [2015]  \n",
       "11             Penguin Group (USA), Inc.            2013  "
      ]
     },
     "execution_count": 9,
     "metadata": {},
     "output_type": "execute_result"
    }
   ],
   "source": [
    "df.head(10)"
   ]
  },
  {
   "cell_type": "markdown",
   "metadata": {},
   "source": [
    "Good, it seems there are all kinds of books in the dataset. I am going to create a few subsets from this big data set. I am particularly attracted to young adult literature, crime and detective stories, young women and girls literature, and maybe sci-fi. I will explore very briefly each of these subsets to check the size of each subset, the number of rows with missing data, and anything out of the ordinary in other columns. First, let's isolate some subsets:"
   ]
  },
  {
   "cell_type": "code",
   "execution_count": 10,
   "metadata": {},
   "outputs": [],
   "source": [
    "df1 = df[df['Subjects'].str.contains(\"Detective|Investigator|Crime|Murder\")==True]\n",
    "df2 = df[df['Subjects'].str.contains(\"Young Adult|Juvenile|Young adult\")==True]\n",
    "df3 = df[df['Subjects'].str.contains(\"Sci-Fi|Science fiction|Science Fiction\")==True]\n",
    "df4 = df[df['Subjects'].str.contains(\"Young women|Teenage girls\")==True]\n"
   ]
  },
  {
   "cell_type": "code",
   "execution_count": 11,
   "metadata": {},
   "outputs": [
    {
     "name": "stdout",
     "output_type": "stream",
     "text": [
      "<class 'pandas.core.frame.DataFrame'>\n",
      "Int64Index: 549515 entries, 81 to 34464165\n",
      "Data columns (total 11 columns):\n",
      "UsageClass         549515 non-null object\n",
      "CheckoutType       549515 non-null object\n",
      "MaterialType       549515 non-null object\n",
      "CheckoutYear       549515 non-null int64\n",
      "CheckoutMonth      549515 non-null int64\n",
      "Checkouts          549515 non-null object\n",
      "Title              549515 non-null object\n",
      "Creator            439007 non-null object\n",
      "Subjects           549515 non-null object\n",
      "Publisher          445801 non-null object\n",
      "PublicationYear    445861 non-null object\n",
      "dtypes: int64(2), object(9)\n",
      "memory usage: 50.3+ MB\n",
      "Number of checkout values for the set: 422\n",
      "\n",
      "UsageClass              0\n",
      "CheckoutType            0\n",
      "MaterialType            0\n",
      "CheckoutYear            0\n",
      "CheckoutMonth           0\n",
      "Checkouts               0\n",
      "Title                   0\n",
      "Creator            110508\n",
      "Subjects                0\n",
      "Publisher          103714\n",
      "PublicationYear    103654\n",
      "dtype: int64\n",
      "\n",
      "<class 'pandas.core.frame.DataFrame'>\n",
      "Int64Index: 5875246 entries, 3 to 34464166\n",
      "Data columns (total 11 columns):\n",
      "UsageClass         object\n",
      "CheckoutType       object\n",
      "MaterialType       object\n",
      "CheckoutYear       int64\n",
      "CheckoutMonth      int64\n",
      "Checkouts          object\n",
      "Title              object\n",
      "Creator            object\n",
      "Subjects           object\n",
      "Publisher          object\n",
      "PublicationYear    object\n",
      "dtypes: int64(2), object(9)\n",
      "memory usage: 537.9+ MB\n",
      "Number of checkout values for the set: 382\n",
      "\n",
      "UsageClass              0\n",
      "CheckoutType            0\n",
      "MaterialType            0\n",
      "CheckoutYear            0\n",
      "CheckoutMonth           0\n",
      "Checkouts               0\n",
      "Title                   0\n",
      "Creator            689061\n",
      "Subjects                0\n",
      "Publisher          566977\n",
      "PublicationYear    566880\n",
      "dtype: int64\n",
      "\n",
      "<class 'pandas.core.frame.DataFrame'>\n",
      "Int64Index: 796504 entries, 20 to 34464164\n",
      "Data columns (total 11 columns):\n",
      "UsageClass         796504 non-null object\n",
      "CheckoutType       796504 non-null object\n",
      "MaterialType       796504 non-null object\n",
      "CheckoutYear       796504 non-null int64\n",
      "CheckoutMonth      796504 non-null int64\n",
      "Checkouts          796504 non-null object\n",
      "Title              796504 non-null object\n",
      "Creator            621352 non-null object\n",
      "Subjects           796504 non-null object\n",
      "Publisher          647482 non-null object\n",
      "PublicationYear    647076 non-null object\n",
      "dtypes: int64(2), object(9)\n",
      "memory usage: 72.9+ MB\n",
      "Number of checkout values for the set: 349\n",
      "\n",
      "UsageClass              0\n",
      "CheckoutType            0\n",
      "MaterialType            0\n",
      "CheckoutYear            0\n",
      "CheckoutMonth           0\n",
      "Checkouts               0\n",
      "Title                   0\n",
      "Creator            175152\n",
      "Subjects                0\n",
      "Publisher          149022\n",
      "PublicationYear    149428\n",
      "dtype: int64\n",
      "\n",
      "<class 'pandas.core.frame.DataFrame'>\n",
      "Int64Index: 173379 entries, 130 to 34463992\n",
      "Data columns (total 11 columns):\n",
      "UsageClass         173379 non-null object\n",
      "CheckoutType       173379 non-null object\n",
      "MaterialType       173379 non-null object\n",
      "CheckoutYear       173379 non-null int64\n",
      "CheckoutMonth      173379 non-null int64\n",
      "Checkouts          173379 non-null object\n",
      "Title              173379 non-null object\n",
      "Creator            116434 non-null object\n",
      "Subjects           173379 non-null object\n",
      "Publisher          117639 non-null object\n",
      "PublicationYear    117633 non-null object\n",
      "dtypes: int64(2), object(9)\n",
      "memory usage: 15.9+ MB\n",
      "Number of checkout values for the set: 189\n",
      "\n",
      "UsageClass             0\n",
      "CheckoutType           0\n",
      "MaterialType           0\n",
      "CheckoutYear           0\n",
      "CheckoutMonth          0\n",
      "Checkouts              0\n",
      "Title                  0\n",
      "Creator            56945\n",
      "Subjects               0\n",
      "Publisher          55740\n",
      "PublicationYear    55746\n",
      "dtype: int64\n"
     ]
    }
   ],
   "source": [
    "df1.info()\n",
    "#enough variation in numbers of checkouts?\n",
    "print('Number of checkout values for the set: ' + str(len(df1.Checkouts.unique())))\n",
    "print()\n",
    "print(df1.isnull().sum())\n",
    "print()\n",
    "df2.info()\n",
    "#enough variation in numbers of checkouts?\n",
    "print('Number of checkout values for the set: ' + str(len(df2.Checkouts.unique())))\n",
    "print()\n",
    "print(df2.isnull().sum())\n",
    "print()\n",
    "df3.info()\n",
    "#enough variation in numbers of checkouts?\n",
    "print('Number of checkout values for the set: ' + str(len(df3.Checkouts.unique())))\n",
    "print()\n",
    "print(df3.isnull().sum())\n",
    "print()\n",
    "df4.info()\n",
    "#enough variation in numbers of checkouts?\n",
    "print('Number of checkout values for the set: ' + str(len(df4.Checkouts.unique())))\n",
    "print()\n",
    "print(df4.isnull().sum())"
   ]
  },
  {
   "cell_type": "code",
   "execution_count": 12,
   "metadata": {},
   "outputs": [
    {
     "name": "stderr",
     "output_type": "stream",
     "text": [
      "/Users/oana/anaconda3/lib/python3.6/site-packages/ipykernel_launcher.py:1: SettingWithCopyWarning: \n",
      "A value is trying to be set on a copy of a slice from a DataFrame.\n",
      "Try using .loc[row_indexer,col_indexer] = value instead\n",
      "\n",
      "See the caveats in the documentation: http://pandas.pydata.org/pandas-docs/stable/indexing.html#indexing-view-versus-copy\n",
      "  \"\"\"Entry point for launching an IPython kernel.\n"
     ]
    },
    {
     "data": {
      "text/html": [
       "<div>\n",
       "<style scoped>\n",
       "    .dataframe tbody tr th:only-of-type {\n",
       "        vertical-align: middle;\n",
       "    }\n",
       "\n",
       "    .dataframe tbody tr th {\n",
       "        vertical-align: top;\n",
       "    }\n",
       "\n",
       "    .dataframe thead th {\n",
       "        text-align: right;\n",
       "    }\n",
       "</style>\n",
       "<table border=\"1\" class=\"dataframe\">\n",
       "  <thead>\n",
       "    <tr style=\"text-align: right;\">\n",
       "      <th></th>\n",
       "      <th>UsageClass</th>\n",
       "      <th>CheckoutType</th>\n",
       "      <th>MaterialType</th>\n",
       "      <th>CheckoutYear</th>\n",
       "      <th>CheckoutMonth</th>\n",
       "      <th>Checkouts</th>\n",
       "      <th>Title</th>\n",
       "      <th>Creator</th>\n",
       "      <th>Subjects</th>\n",
       "      <th>Publisher</th>\n",
       "      <th>PublicationYear</th>\n",
       "    </tr>\n",
       "  </thead>\n",
       "  <tbody>\n",
       "    <tr>\n",
       "      <th>34463975</th>\n",
       "      <td>Physical</td>\n",
       "      <td>Horizon</td>\n",
       "      <td>BOOK</td>\n",
       "      <td>2018</td>\n",
       "      <td>2</td>\n",
       "      <td>1</td>\n",
       "      <td>The death of Lucy Kyte / Nicola Upson.</td>\n",
       "      <td>Upson, Nicola</td>\n",
       "      <td>Tey Josephine 1896 or 1897 1952 Fiction, Women...</td>\n",
       "      <td>Bourbon Street Books,</td>\n",
       "      <td>2014.</td>\n",
       "    </tr>\n",
       "    <tr>\n",
       "      <th>34463996</th>\n",
       "      <td>Physical</td>\n",
       "      <td>Horizon</td>\n",
       "      <td>BOOK</td>\n",
       "      <td>2018</td>\n",
       "      <td>2</td>\n",
       "      <td>3</td>\n",
       "      <td>Canal Days calamity / Jamie M. Blair.</td>\n",
       "      <td>Blair, Jamie M.</td>\n",
       "      <td>Murder Investigation Fiction, City and town li...</td>\n",
       "      <td>Midnight Ink,</td>\n",
       "      <td>[2017]</td>\n",
       "    </tr>\n",
       "    <tr>\n",
       "      <th>34464048</th>\n",
       "      <td>Digital</td>\n",
       "      <td>OverDrive</td>\n",
       "      <td>EBOOK</td>\n",
       "      <td>2018</td>\n",
       "      <td>2</td>\n",
       "      <td>4</td>\n",
       "      <td>The Fact of a Body: A Murder and a Memoir</td>\n",
       "      <td>Alexandria Marzano-Lesnevich</td>\n",
       "      <td>Family &amp; Relationships, Nonfiction, True Crime</td>\n",
       "      <td>Macmillan Publishers</td>\n",
       "      <td>2017</td>\n",
       "    </tr>\n",
       "    <tr>\n",
       "      <th>34464089</th>\n",
       "      <td>Physical</td>\n",
       "      <td>Horizon</td>\n",
       "      <td>BOOK</td>\n",
       "      <td>2018</td>\n",
       "      <td>2</td>\n",
       "      <td>1</td>\n",
       "      <td>Midnight crossing / Tricia Fields.</td>\n",
       "      <td>Fields, Tricia</td>\n",
       "      <td>Women police chiefs Fiction, Murder Investigat...</td>\n",
       "      <td>Minotaur Books,</td>\n",
       "      <td>2016.</td>\n",
       "    </tr>\n",
       "    <tr>\n",
       "      <th>34464165</th>\n",
       "      <td>Physical</td>\n",
       "      <td>Horizon</td>\n",
       "      <td>BOOK</td>\n",
       "      <td>2018</td>\n",
       "      <td>2</td>\n",
       "      <td>4</td>\n",
       "      <td>Mayhem &amp; mass / Olivia Matthews.</td>\n",
       "      <td>Matthews, Olivia</td>\n",
       "      <td>Murder Fiction, Nuns Fiction, Catholics Fictio...</td>\n",
       "      <td>Kensington Books,</td>\n",
       "      <td>2017.</td>\n",
       "    </tr>\n",
       "  </tbody>\n",
       "</table>\n",
       "</div>"
      ],
      "text/plain": [
       "         UsageClass CheckoutType MaterialType  CheckoutYear  CheckoutMonth  \\\n",
       "34463975   Physical      Horizon         BOOK          2018              2   \n",
       "34463996   Physical      Horizon         BOOK          2018              2   \n",
       "34464048    Digital    OverDrive        EBOOK          2018              2   \n",
       "34464089   Physical      Horizon         BOOK          2018              2   \n",
       "34464165   Physical      Horizon         BOOK          2018              2   \n",
       "\n",
       "          Checkouts                                      Title  \\\n",
       "34463975          1     The death of Lucy Kyte / Nicola Upson.   \n",
       "34463996          3      Canal Days calamity / Jamie M. Blair.   \n",
       "34464048          4  The Fact of a Body: A Murder and a Memoir   \n",
       "34464089          1         Midnight crossing / Tricia Fields.   \n",
       "34464165          4           Mayhem & mass / Olivia Matthews.   \n",
       "\n",
       "                               Creator  \\\n",
       "34463975                 Upson, Nicola   \n",
       "34463996               Blair, Jamie M.   \n",
       "34464048  Alexandria Marzano-Lesnevich   \n",
       "34464089                Fields, Tricia   \n",
       "34464165              Matthews, Olivia   \n",
       "\n",
       "                                                   Subjects  \\\n",
       "34463975  Tey Josephine 1896 or 1897 1952 Fiction, Women...   \n",
       "34463996  Murder Investigation Fiction, City and town li...   \n",
       "34464048     Family & Relationships, Nonfiction, True Crime   \n",
       "34464089  Women police chiefs Fiction, Murder Investigat...   \n",
       "34464165  Murder Fiction, Nuns Fiction, Catholics Fictio...   \n",
       "\n",
       "                      Publisher PublicationYear  \n",
       "34463975  Bourbon Street Books,           2014.  \n",
       "34463996          Midnight Ink,          [2017]  \n",
       "34464048   Macmillan Publishers            2017  \n",
       "34464089        Minotaur Books,           2016.  \n",
       "34464165      Kensington Books,           2017.  "
      ]
     },
     "execution_count": 12,
     "metadata": {},
     "output_type": "execute_result"
    }
   ],
   "source": [
    "df1['Checkouts'] = df1.Checkouts.astype('int')\n",
    "df1.tail()"
   ]
  },
  {
   "cell_type": "code",
   "execution_count": 13,
   "metadata": {},
   "outputs": [
    {
     "data": {
      "text/html": [
       "<div>\n",
       "<style scoped>\n",
       "    .dataframe tbody tr th:only-of-type {\n",
       "        vertical-align: middle;\n",
       "    }\n",
       "\n",
       "    .dataframe tbody tr th {\n",
       "        vertical-align: top;\n",
       "    }\n",
       "\n",
       "    .dataframe thead th {\n",
       "        text-align: right;\n",
       "    }\n",
       "</style>\n",
       "<table border=\"1\" class=\"dataframe\">\n",
       "  <thead>\n",
       "    <tr style=\"text-align: right;\">\n",
       "      <th></th>\n",
       "      <th>UsageClass</th>\n",
       "      <th>CheckoutType</th>\n",
       "      <th>MaterialType</th>\n",
       "      <th>CheckoutYear</th>\n",
       "      <th>CheckoutMonth</th>\n",
       "      <th>Checkouts</th>\n",
       "      <th>Title</th>\n",
       "      <th>Creator</th>\n",
       "      <th>Subjects</th>\n",
       "      <th>Publisher</th>\n",
       "      <th>PublicationYear</th>\n",
       "    </tr>\n",
       "  </thead>\n",
       "  <tbody>\n",
       "    <tr>\n",
       "      <th>count</th>\n",
       "      <td>549515</td>\n",
       "      <td>549515</td>\n",
       "      <td>549515</td>\n",
       "      <td>549515.000000</td>\n",
       "      <td>549515.000000</td>\n",
       "      <td>549515.000000</td>\n",
       "      <td>549515</td>\n",
       "      <td>439007</td>\n",
       "      <td>549515</td>\n",
       "      <td>445801</td>\n",
       "      <td>445861</td>\n",
       "    </tr>\n",
       "    <tr>\n",
       "      <th>unique</th>\n",
       "      <td>2</td>\n",
       "      <td>2</td>\n",
       "      <td>3</td>\n",
       "      <td>NaN</td>\n",
       "      <td>NaN</td>\n",
       "      <td>NaN</td>\n",
       "      <td>21147</td>\n",
       "      <td>7337</td>\n",
       "      <td>24837</td>\n",
       "      <td>2762</td>\n",
       "      <td>723</td>\n",
       "    </tr>\n",
       "    <tr>\n",
       "      <th>top</th>\n",
       "      <td>Physical</td>\n",
       "      <td>Horizon</td>\n",
       "      <td>BOOK</td>\n",
       "      <td>NaN</td>\n",
       "      <td>NaN</td>\n",
       "      <td>NaN</td>\n",
       "      <td>The stranger / Albert Camus ; translated from ...</td>\n",
       "      <td>Patterson, James, 1947-</td>\n",
       "      <td>Nonfiction, True Crime</td>\n",
       "      <td>Thorndike Press,</td>\n",
       "      <td>2012.</td>\n",
       "    </tr>\n",
       "    <tr>\n",
       "      <th>freq</th>\n",
       "      <td>524007</td>\n",
       "      <td>524007</td>\n",
       "      <td>524007</td>\n",
       "      <td>NaN</td>\n",
       "      <td>NaN</td>\n",
       "      <td>NaN</td>\n",
       "      <td>333</td>\n",
       "      <td>6624</td>\n",
       "      <td>8592</td>\n",
       "      <td>28159</td>\n",
       "      <td>22922</td>\n",
       "    </tr>\n",
       "    <tr>\n",
       "      <th>mean</th>\n",
       "      <td>NaN</td>\n",
       "      <td>NaN</td>\n",
       "      <td>NaN</td>\n",
       "      <td>2013.423519</td>\n",
       "      <td>6.464175</td>\n",
       "      <td>3.457715</td>\n",
       "      <td>NaN</td>\n",
       "      <td>NaN</td>\n",
       "      <td>NaN</td>\n",
       "      <td>NaN</td>\n",
       "      <td>NaN</td>\n",
       "    </tr>\n",
       "    <tr>\n",
       "      <th>std</th>\n",
       "      <td>NaN</td>\n",
       "      <td>NaN</td>\n",
       "      <td>NaN</td>\n",
       "      <td>4.016596</td>\n",
       "      <td>3.380661</td>\n",
       "      <td>9.805771</td>\n",
       "      <td>NaN</td>\n",
       "      <td>NaN</td>\n",
       "      <td>NaN</td>\n",
       "      <td>NaN</td>\n",
       "      <td>NaN</td>\n",
       "    </tr>\n",
       "    <tr>\n",
       "      <th>min</th>\n",
       "      <td>NaN</td>\n",
       "      <td>NaN</td>\n",
       "      <td>NaN</td>\n",
       "      <td>2005.000000</td>\n",
       "      <td>1.000000</td>\n",
       "      <td>1.000000</td>\n",
       "      <td>NaN</td>\n",
       "      <td>NaN</td>\n",
       "      <td>NaN</td>\n",
       "      <td>NaN</td>\n",
       "      <td>NaN</td>\n",
       "    </tr>\n",
       "    <tr>\n",
       "      <th>25%</th>\n",
       "      <td>NaN</td>\n",
       "      <td>NaN</td>\n",
       "      <td>NaN</td>\n",
       "      <td>2010.000000</td>\n",
       "      <td>4.000000</td>\n",
       "      <td>1.000000</td>\n",
       "      <td>NaN</td>\n",
       "      <td>NaN</td>\n",
       "      <td>NaN</td>\n",
       "      <td>NaN</td>\n",
       "      <td>NaN</td>\n",
       "    </tr>\n",
       "    <tr>\n",
       "      <th>50%</th>\n",
       "      <td>NaN</td>\n",
       "      <td>NaN</td>\n",
       "      <td>NaN</td>\n",
       "      <td>2014.000000</td>\n",
       "      <td>6.000000</td>\n",
       "      <td>2.000000</td>\n",
       "      <td>NaN</td>\n",
       "      <td>NaN</td>\n",
       "      <td>NaN</td>\n",
       "      <td>NaN</td>\n",
       "      <td>NaN</td>\n",
       "    </tr>\n",
       "    <tr>\n",
       "      <th>75%</th>\n",
       "      <td>NaN</td>\n",
       "      <td>NaN</td>\n",
       "      <td>NaN</td>\n",
       "      <td>2017.000000</td>\n",
       "      <td>9.000000</td>\n",
       "      <td>3.000000</td>\n",
       "      <td>NaN</td>\n",
       "      <td>NaN</td>\n",
       "      <td>NaN</td>\n",
       "      <td>NaN</td>\n",
       "      <td>NaN</td>\n",
       "    </tr>\n",
       "    <tr>\n",
       "      <th>max</th>\n",
       "      <td>NaN</td>\n",
       "      <td>NaN</td>\n",
       "      <td>NaN</td>\n",
       "      <td>2019.000000</td>\n",
       "      <td>12.000000</td>\n",
       "      <td>810.000000</td>\n",
       "      <td>NaN</td>\n",
       "      <td>NaN</td>\n",
       "      <td>NaN</td>\n",
       "      <td>NaN</td>\n",
       "      <td>NaN</td>\n",
       "    </tr>\n",
       "  </tbody>\n",
       "</table>\n",
       "</div>"
      ],
      "text/plain": [
       "       UsageClass CheckoutType MaterialType   CheckoutYear  CheckoutMonth  \\\n",
       "count      549515       549515       549515  549515.000000  549515.000000   \n",
       "unique          2            2            3            NaN            NaN   \n",
       "top      Physical      Horizon         BOOK            NaN            NaN   \n",
       "freq       524007       524007       524007            NaN            NaN   \n",
       "mean          NaN          NaN          NaN    2013.423519       6.464175   \n",
       "std           NaN          NaN          NaN       4.016596       3.380661   \n",
       "min           NaN          NaN          NaN    2005.000000       1.000000   \n",
       "25%           NaN          NaN          NaN    2010.000000       4.000000   \n",
       "50%           NaN          NaN          NaN    2014.000000       6.000000   \n",
       "75%           NaN          NaN          NaN    2017.000000       9.000000   \n",
       "max           NaN          NaN          NaN    2019.000000      12.000000   \n",
       "\n",
       "            Checkouts                                              Title  \\\n",
       "count   549515.000000                                             549515   \n",
       "unique            NaN                                              21147   \n",
       "top               NaN  The stranger / Albert Camus ; translated from ...   \n",
       "freq              NaN                                                333   \n",
       "mean         3.457715                                                NaN   \n",
       "std          9.805771                                                NaN   \n",
       "min          1.000000                                                NaN   \n",
       "25%          1.000000                                                NaN   \n",
       "50%          2.000000                                                NaN   \n",
       "75%          3.000000                                                NaN   \n",
       "max        810.000000                                                NaN   \n",
       "\n",
       "                        Creator                Subjects         Publisher  \\\n",
       "count                    439007                  549515            445801   \n",
       "unique                     7337                   24837              2762   \n",
       "top     Patterson, James, 1947-  Nonfiction, True Crime  Thorndike Press,   \n",
       "freq                       6624                    8592             28159   \n",
       "mean                        NaN                     NaN               NaN   \n",
       "std                         NaN                     NaN               NaN   \n",
       "min                         NaN                     NaN               NaN   \n",
       "25%                         NaN                     NaN               NaN   \n",
       "50%                         NaN                     NaN               NaN   \n",
       "75%                         NaN                     NaN               NaN   \n",
       "max                         NaN                     NaN               NaN   \n",
       "\n",
       "       PublicationYear  \n",
       "count           445861  \n",
       "unique             723  \n",
       "top              2012.  \n",
       "freq             22922  \n",
       "mean               NaN  \n",
       "std                NaN  \n",
       "min                NaN  \n",
       "25%                NaN  \n",
       "50%                NaN  \n",
       "75%                NaN  \n",
       "max                NaN  "
      ]
     },
     "execution_count": 13,
     "metadata": {},
     "output_type": "execute_result"
    }
   ],
   "source": [
    "df1.describe(include='all')"
   ]
  },
  {
   "cell_type": "markdown",
   "metadata": {},
   "source": [
    "Interestingly, the items in this dataset have been checked out up to 810 times (there is at least one item checked out 810 times), with an average of 3.45 times. Considering that the vast majority of books get checked out once or twice, that's not too bad. "
   ]
  },
  {
   "cell_type": "code",
   "execution_count": 14,
   "metadata": {},
   "outputs": [
    {
     "data": {
      "image/png": "[encoded data removed]",
      "text/plain": [
       "<Figure size 432x288 with 1 Axes>"
      ]
     },
     "metadata": {},
     "output_type": "display_data"
    }
   ],
   "source": [
    "sns.countplot(\"MaterialType\", data=df1)\n",
    "plt.title(\"Number of titles by material type\")\n",
    "plt.ylabel(\"Number of titles\");"
   ]
  },
  {
   "cell_type": "markdown",
   "metadata": {},
   "source": [
    "Most of the inventory is made of actual books, with a very small percentage of ebooks and audiobooks, probably also due to the fact that the data has been collected since 2005, while ebooks and audiobooks became popular only in the last few years.\n",
    "\n",
    "How many different Authors and how many different Titles do we have, actually?\n"
   ]
  },
  {
   "cell_type": "code",
   "execution_count": 15,
   "metadata": {},
   "outputs": [
    {
     "name": "stdout",
     "output_type": "stream",
     "text": [
      "Titles: 21147\n",
      "Authors: 7338\n"
     ]
    }
   ],
   "source": [
    "print('Titles: ' + str(len(df1.Title.unique())))\n",
    "print('Authors: ' + str(len(df1.Creator.unique())))"
   ]
  },
  {
   "cell_type": "markdown",
   "metadata": {},
   "source": [
    "The dataset contains almost 550000 items, yet there are only 21147 unique titles (it's a library, they have multiple copies of some books). That's a lot of duplicates. Checking the distribution of checkouts (how many items have been checked out once, how many 10 times, and how many 810 times?)"
   ]
  },
  {
   "cell_type": "code",
   "execution_count": 16,
   "metadata": {},
   "outputs": [
    {
     "data": {
      "image/png": "[encoded data removed]",
      "text/plain": [
       "<Figure size 432x288 with 1 Axes>"
      ]
     },
     "metadata": {},
     "output_type": "display_data"
    }
   ],
   "source": [
    "df1['Checkouts'].hist(bins = 100)\n",
    "plt.show()"
   ]
  },
  {
   "cell_type": "markdown",
   "metadata": {},
   "source": [
    "The distribution is - not surprisingly - very skewed. I will first try a log scale, then I'll merge the titles together (sum up the checkouts for the same title over all the copies of that title). That should change this plot considerably. "
   ]
  },
  {
   "cell_type": "code",
   "execution_count": 17,
   "metadata": {},
   "outputs": [
    {
     "data": {
      "image/png": "[encoded data removed]",
      "text/plain": [
       "<Figure size 432x288 with 1 Axes>"
      ]
     },
     "metadata": {},
     "output_type": "display_data"
    }
   ],
   "source": [
    "df1['Checkouts'].apply(np.log).hist(bins = 100)\n",
    "plt.show()"
   ]
  },
  {
   "cell_type": "markdown",
   "metadata": {},
   "source": [
    "Check whether the year and month of publishing have any relevance (any trends in the data?)"
   ]
  },
  {
   "cell_type": "code",
   "execution_count": 18,
   "metadata": {},
   "outputs": [
    {
     "data": {
      "image/png": "[encoded data removed]",
      "text/plain": [
       "<Figure size 432x288 with 1 Axes>"
      ]
     },
     "metadata": {},
     "output_type": "display_data"
    }
   ],
   "source": [
    "sns.countplot(\"CheckoutYear\", data=df1)\n",
    "plt.title(\"Number of titles by year\")\n",
    "plt.ylabel(\"Number of titles\");"
   ]
  },
  {
   "cell_type": "code",
   "execution_count": 19,
   "metadata": {},
   "outputs": [
    {
     "data": {
      "image/png": "[encoded data removed]",
      "text/plain": [
       "<Figure size 432x288 with 1 Axes>"
      ]
     },
     "metadata": {},
     "output_type": "display_data"
    }
   ],
   "source": [
    "sns.countplot(\"CheckoutMonth\", data=df1)\n",
    "plt.title(\"Number of titles by year\")\n",
    "plt.ylabel(\"Number of titles\");"
   ]
  },
  {
   "cell_type": "markdown",
   "metadata": {},
   "source": [
    "There is no notable influence of the month or the year on the data (the number of titles increases every year, which is expected, and the modt popular month to check books out seems to be August). These columns will not add value to a predictor for a good film candidate. Isolating only columns of relevance would retain Title, Creator, Subjects, Checkouts."
   ]
  },
  {
   "cell_type": "code",
   "execution_count": 20,
   "metadata": {},
   "outputs": [
    {
     "data": {
      "text/html": [
       "<div>\n",
       "<style scoped>\n",
       "    .dataframe tbody tr th:only-of-type {\n",
       "        vertical-align: middle;\n",
       "    }\n",
       "\n",
       "    .dataframe tbody tr th {\n",
       "        vertical-align: top;\n",
       "    }\n",
       "\n",
       "    .dataframe thead th {\n",
       "        text-align: right;\n",
       "    }\n",
       "</style>\n",
       "<table border=\"1\" class=\"dataframe\">\n",
       "  <thead>\n",
       "    <tr style=\"text-align: right;\">\n",
       "      <th></th>\n",
       "      <th>Title</th>\n",
       "      <th>Creator</th>\n",
       "      <th>Checkouts</th>\n",
       "      <th>Subjects</th>\n",
       "    </tr>\n",
       "  </thead>\n",
       "  <tbody>\n",
       "    <tr>\n",
       "      <th>81</th>\n",
       "      <td>The sudden disappearance of the worker bees : ...</td>\n",
       "      <td>Quadruppani, Serge</td>\n",
       "      <td>1</td>\n",
       "      <td>Murder Investigation Fiction, Bees Fiction, My...</td>\n",
       "    </tr>\n",
       "    <tr>\n",
       "      <th>91</th>\n",
       "      <td>Etched in tears / Cheryl Hollon.</td>\n",
       "      <td>Hollon, Cheryl</td>\n",
       "      <td>1</td>\n",
       "      <td>Glass trade Fiction, Murder Fiction, Saint Pet...</td>\n",
       "    </tr>\n",
       "    <tr>\n",
       "      <th>130</th>\n",
       "      <td>Penance / Kanae Minato ; translated by Philip ...</td>\n",
       "      <td>Minato, Kanae, 1973-</td>\n",
       "      <td>1</td>\n",
       "      <td>Girls Crimes against Fiction, Young women Fict...</td>\n",
       "    </tr>\n",
       "    <tr>\n",
       "      <th>168</th>\n",
       "      <td>Now you see me / S.J. Bolton.</td>\n",
       "      <td>Bolton, S. J.</td>\n",
       "      <td>2</td>\n",
       "      <td>Jack the Ripper Influence Fiction, Women detec...</td>\n",
       "    </tr>\n",
       "    <tr>\n",
       "      <th>199</th>\n",
       "      <td>Who Killed These Girls?: Cold Case: The Yogurt...</td>\n",
       "      <td>Beverly Lowry</td>\n",
       "      <td>1</td>\n",
       "      <td>History, Nonfiction, Sociology, True Crime</td>\n",
       "    </tr>\n",
       "  </tbody>\n",
       "</table>\n",
       "</div>"
      ],
      "text/plain": [
       "                                                 Title               Creator  \\\n",
       "81   The sudden disappearance of the worker bees : ...    Quadruppani, Serge   \n",
       "91                    Etched in tears / Cheryl Hollon.        Hollon, Cheryl   \n",
       "130  Penance / Kanae Minato ; translated by Philip ...  Minato, Kanae, 1973-   \n",
       "168                      Now you see me / S.J. Bolton.         Bolton, S. J.   \n",
       "199  Who Killed These Girls?: Cold Case: The Yogurt...         Beverly Lowry   \n",
       "\n",
       "     Checkouts                                           Subjects  \n",
       "81           1  Murder Investigation Fiction, Bees Fiction, My...  \n",
       "91           1  Glass trade Fiction, Murder Fiction, Saint Pet...  \n",
       "130          1  Girls Crimes against Fiction, Young women Fict...  \n",
       "168          2  Jack the Ripper Influence Fiction, Women detec...  \n",
       "199          1         History, Nonfiction, Sociology, True Crime  "
      ]
     },
     "execution_count": 20,
     "metadata": {},
     "output_type": "execute_result"
    }
   ],
   "source": [
    "df_cols = ['Title', 'Creator', 'Checkouts', 'Subjects']\n",
    "df_rel = df1[df_cols]\n",
    "df_rel.head()"
   ]
  },
  {
   "cell_type": "code",
   "execution_count": 21,
   "metadata": {},
   "outputs": [
    {
     "data": {
      "text/plain": [
       "(549515, 4)"
      ]
     },
     "execution_count": 21,
     "metadata": {},
     "output_type": "execute_result"
    }
   ],
   "source": [
    "df_rel.shape"
   ]
  },
  {
   "cell_type": "markdown",
   "metadata": {},
   "source": [
    "Multiple copies of a book are making the data hard to organize. How many actual unique titles are there?"
   ]
  },
  {
   "cell_type": "code",
   "execution_count": 22,
   "metadata": {},
   "outputs": [
    {
     "data": {
      "text/html": [
       "<div>\n",
       "<style scoped>\n",
       "    .dataframe tbody tr th:only-of-type {\n",
       "        vertical-align: middle;\n",
       "    }\n",
       "\n",
       "    .dataframe tbody tr th {\n",
       "        vertical-align: top;\n",
       "    }\n",
       "\n",
       "    .dataframe thead th {\n",
       "        text-align: right;\n",
       "    }\n",
       "</style>\n",
       "<table border=\"1\" class=\"dataframe\">\n",
       "  <thead>\n",
       "    <tr style=\"text-align: right;\">\n",
       "      <th></th>\n",
       "      <th>Checkouts</th>\n",
       "    </tr>\n",
       "    <tr>\n",
       "      <th>Title</th>\n",
       "      <th></th>\n",
       "    </tr>\n",
       "  </thead>\n",
       "  <tbody>\n",
       "    <tr>\n",
       "      <th>\"A revolting transaction\" / by Barnaby Conrad.</th>\n",
       "      <td>4</td>\n",
       "    </tr>\n",
       "    <tr>\n",
       "      <th>\"B\" is for burglar / Sue Grafton.</th>\n",
       "      <td>192</td>\n",
       "    </tr>\n",
       "    <tr>\n",
       "      <th>\"Broken windows\" and police discretion / George L. Kelling.</th>\n",
       "      <td>4</td>\n",
       "    </tr>\n",
       "    <tr>\n",
       "      <th>\"D\" is for deadbeat / Sue Grafton.</th>\n",
       "      <td>92</td>\n",
       "    </tr>\n",
       "    <tr>\n",
       "      <th>\"E\" is for evidence / Sue Grafton.</th>\n",
       "      <td>662</td>\n",
       "    </tr>\n",
       "    <tr>\n",
       "      <th>\"F\" is for fugitive / Sue Grafton.</th>\n",
       "      <td>74</td>\n",
       "    </tr>\n",
       "    <tr>\n",
       "      <th>\"G\" is for Grafton : the world of Kinsey Millhone / Natalie Hevener Kaufman and Carol McGinnis Kay.</th>\n",
       "      <td>25</td>\n",
       "    </tr>\n",
       "    <tr>\n",
       "      <th>\"G\" is for gumshoe / Sue Grafton.</th>\n",
       "      <td>2</td>\n",
       "    </tr>\n",
       "    <tr>\n",
       "      <th>\"H\" is for homicide / Sue Grafton.</th>\n",
       "      <td>6</td>\n",
       "    </tr>\n",
       "    <tr>\n",
       "      <th>\"I Heard You Paint Houses\": Frank \"The Irishman\" Sheeran and Closing the Case on Jimmy Hoffa (unabridged)</th>\n",
       "      <td>3</td>\n",
       "    </tr>\n",
       "    <tr>\n",
       "      <th>\"I Heard You Paint Houses\": Frank \"The Irishman\" Sheeran and Closing the Case on Jimmy Hoffa (unabridged) (Unabridged)</th>\n",
       "      <td>82</td>\n",
       "    </tr>\n",
       "    <tr>\n",
       "      <th>\"I\" is for innocent / Sue Grafton.</th>\n",
       "      <td>669</td>\n",
       "    </tr>\n",
       "    <tr>\n",
       "      <th>\"J\" is for judgment / Sue Grafton.</th>\n",
       "      <td>465</td>\n",
       "    </tr>\n",
       "    <tr>\n",
       "      <th>\"K\" is for killer / Sue Grafton.</th>\n",
       "      <td>627</td>\n",
       "    </tr>\n",
       "    <tr>\n",
       "      <th>\"L\" is for lawless / Sue Grafton.</th>\n",
       "      <td>228</td>\n",
       "    </tr>\n",
       "    <tr>\n",
       "      <th>\"The eye that never sleeps\" : a history of the Pinkerton National Detective Agency / Frank Morn.</th>\n",
       "      <td>31</td>\n",
       "    </tr>\n",
       "    <tr>\n",
       "      <th>#MeToo : women speak out against sexual assault / [edited by the New York Times Company editorial staff].</th>\n",
       "      <td>14</td>\n",
       "    </tr>\n",
       "    <tr>\n",
       "      <th>#MurderFunding / Gretchen McNeil.</th>\n",
       "      <td>6</td>\n",
       "    </tr>\n",
       "    <tr>\n",
       "      <th>#MurderTrending / Gretchen McNeil.</th>\n",
       "      <td>44</td>\n",
       "    </tr>\n",
       "    <tr>\n",
       "      <th>#fashionvictim : a novel / Amina Akhtar.</th>\n",
       "      <td>20</td>\n",
       "    </tr>\n",
       "    <tr>\n",
       "      <th>#ni una más : el femincidio en México: tema urgente en la Agenda Nacional / Frida Guerrera ; ilustraciones de Catherick Uribe.</th>\n",
       "      <td>1</td>\n",
       "    </tr>\n",
       "    <tr>\n",
       "      <th>$10,000 in small, unmarked puzzles / Parnell Hall.</th>\n",
       "      <td>78</td>\n",
       "    </tr>\n",
       "    <tr>\n",
       "      <th>$10,000 in small, unmarked puzzles [text (large print)] / Parnell Hall.</th>\n",
       "      <td>30</td>\n",
       "    </tr>\n",
       "    <tr>\n",
       "      <th>'I Heard You Paint Houses', Updated Edition: Frank 'The Irishman' Sheeran &amp; Closing the Case on Jimmy Hoffa</th>\n",
       "      <td>56</td>\n",
       "    </tr>\n",
       "    <tr>\n",
       "      <th>'Til dirt do us part / Edith Maxwell,</th>\n",
       "      <td>50</td>\n",
       "    </tr>\n",
       "    <tr>\n",
       "      <th>'Twas the knife before Christmas / Jacqueline Frost.</th>\n",
       "      <td>15</td>\n",
       "    </tr>\n",
       "    <tr>\n",
       "      <th>...And never let her go : Thomas Capano, the deadly seducer / Ann Rule.</th>\n",
       "      <td>69</td>\n",
       "    </tr>\n",
       "    <tr>\n",
       "      <th>1 novella &amp; 13 superstar short stories from the finest in mystery &amp; suspense / edited by Otto Penzler.</th>\n",
       "      <td>39</td>\n",
       "    </tr>\n",
       "    <tr>\n",
       "      <th>10 lb. penalty / Dick Francis.</th>\n",
       "      <td>6</td>\n",
       "    </tr>\n",
       "    <tr>\n",
       "      <th>100 bullets : Six feet under the gun / Brian Azzarello, writer ; Eduardo Risso, artist ; Patricia Mulvihill, colorist ; Clem Robins, letterer.</th>\n",
       "      <td>316</td>\n",
       "    </tr>\n",
       "    <tr>\n",
       "      <th>...</th>\n",
       "      <td>...</td>\n",
       "    </tr>\n",
       "    <tr>\n",
       "      <th>worlds finest mystery and crime stories third annual collection</th>\n",
       "      <td>21</td>\n",
       "    </tr>\n",
       "    <tr>\n",
       "      <th>worlds most mysterious murders</th>\n",
       "      <td>24</td>\n",
       "    </tr>\n",
       "    <tr>\n",
       "      <th>wreath for Emmett Till</th>\n",
       "      <td>65</td>\n",
       "    </tr>\n",
       "    <tr>\n",
       "      <th>writers complete crime reference book</th>\n",
       "      <td>1</td>\n",
       "    </tr>\n",
       "    <tr>\n",
       "      <th>wrong hill to die on</th>\n",
       "      <td>8</td>\n",
       "    </tr>\n",
       "    <tr>\n",
       "      <th>wrong hill to die on an Alafair Tucker mystery</th>\n",
       "      <td>50</td>\n",
       "    </tr>\n",
       "    <tr>\n",
       "      <th>wrong road</th>\n",
       "      <td>15</td>\n",
       "    </tr>\n",
       "    <tr>\n",
       "      <th>wtf</th>\n",
       "      <td>54</td>\n",
       "    </tr>\n",
       "    <tr>\n",
       "      <th>yard dog</th>\n",
       "      <td>69</td>\n",
       "    </tr>\n",
       "    <tr>\n",
       "      <th>year of disappearances</th>\n",
       "      <td>73</td>\n",
       "    </tr>\n",
       "    <tr>\n",
       "      <th>yeares midnight</th>\n",
       "      <td>3</td>\n",
       "    </tr>\n",
       "    <tr>\n",
       "      <th>yellow room conspiracy</th>\n",
       "      <td>24</td>\n",
       "    </tr>\n",
       "    <tr>\n",
       "      <th>young wife</th>\n",
       "      <td>6</td>\n",
       "    </tr>\n",
       "    <tr>\n",
       "      <th>£ltimo jurado</th>\n",
       "      <td>25</td>\n",
       "    </tr>\n",
       "    <tr>\n",
       "      <th>Án mạng tiệc Hallowe'en = Hallowe'en party / Agatha Christie ; Nhung Nhung dịch.</th>\n",
       "      <td>2</td>\n",
       "    </tr>\n",
       "    <tr>\n",
       "      <th>Án mạng ở công viên Gorky / Martin Cruz Smith ; Nguyễn Việt Dũng, dịch.</th>\n",
       "      <td>2</td>\n",
       "    </tr>\n",
       "    <tr>\n",
       "      <th>Ángeles y demonios / Dan Brown ; traducción de Eduardo G. Murillo.</th>\n",
       "      <td>63</td>\n",
       "    </tr>\n",
       "    <tr>\n",
       "      <th>Âm thanh của im lặng : tiểu thuyết / Minh Nhật.</th>\n",
       "      <td>3</td>\n",
       "    </tr>\n",
       "    <tr>\n",
       "      <th>Éclair and present danger / Laura Bradford.</th>\n",
       "      <td>30</td>\n",
       "    </tr>\n",
       "    <tr>\n",
       "      <th>Điệp viên của chúa / Juan Gómez-Jurado ; người dịch, Đỗ Tuấn Anh.</th>\n",
       "      <td>33</td>\n",
       "    </tr>\n",
       "    <tr>\n",
       "      <th>Độc chú / Hạ Long Hà ; An Lạc Group dịch.</th>\n",
       "      <td>13</td>\n",
       "    </tr>\n",
       "    <tr>\n",
       "      <th>Ėffekt nedostignutoĭ ︠t︡seli / Tatʹ︠i︡ana Kogan.</th>\n",
       "      <td>27</td>\n",
       "    </tr>\n",
       "    <tr>\n",
       "      <th>Ėfirnoe vrem︠i︡a : roman / Polina Dashkova.</th>\n",
       "      <td>47</td>\n",
       "    </tr>\n",
       "    <tr>\n",
       "      <th>Ōinaru nemuri / Chandler Raymond ; Murakami Haruki, yaku.</th>\n",
       "      <td>6</td>\n",
       "    </tr>\n",
       "    <tr>\n",
       "      <th>︠I︡A - seriĭnyĭ ubiĭ︠t︡sa : otkroveni︠i︡a velikikh manʹ︠i︡akov / Dzhon Duglas, Mark Olsheĭker.</th>\n",
       "      <td>8</td>\n",
       "    </tr>\n",
       "    <tr>\n",
       "      <th>︠I︡A-Malala : devochka, kotora︠i︡a borolasʹ za pravo na obrazovanie i byla ranena Talibami / Malala ︠I︡Usufzaĭ ; pri uchastii Kristiny Lėm ; [perevod s angliĭskogo Ekateriny Bolʹshelapovoĭ].</th>\n",
       "      <td>5</td>\n",
       "    </tr>\n",
       "    <tr>\n",
       "      <th>︠I︡Ad bessmerti︠i︡a : roman / Nora Roberts.</th>\n",
       "      <td>2</td>\n",
       "    </tr>\n",
       "    <tr>\n",
       "      <th>︠T︡Sena voprosa. Tom 1 / Aleksandra Marinina.</th>\n",
       "      <td>26</td>\n",
       "    </tr>\n",
       "    <tr>\n",
       "      <th>︠T︡Sena voprosa. Tom 2 / Aleksandra Marinina.</th>\n",
       "      <td>25</td>\n",
       "    </tr>\n",
       "    <tr>\n",
       "      <th>︠T︡S︠i︡u-︠i︡urikhʹ : roman, rasskazy / L︠i︡udmila Uli︠t︡ska︠i︡a.</th>\n",
       "      <td>28</td>\n",
       "    </tr>\n",
       "  </tbody>\n",
       "</table>\n",
       "<p>21147 rows × 1 columns</p>\n",
       "</div>"
      ],
      "text/plain": [
       "                                                    Checkouts\n",
       "Title                                                        \n",
       "\"A revolting transaction\" / by Barnaby Conrad.              4\n",
       "\"B\" is for burglar / Sue Grafton.                         192\n",
       "\"Broken windows\" and police discretion / George...          4\n",
       "\"D\" is for deadbeat / Sue Grafton.                         92\n",
       "\"E\" is for evidence / Sue Grafton.                        662\n",
       "\"F\" is for fugitive / Sue Grafton.                         74\n",
       "\"G\" is for Grafton : the world of Kinsey Millho...         25\n",
       "\"G\" is for gumshoe / Sue Grafton.                           2\n",
       "\"H\" is for homicide / Sue Grafton.                          6\n",
       "\"I Heard You Paint Houses\": Frank \"The Irishman...          3\n",
       "\"I Heard You Paint Houses\": Frank \"The Irishman...         82\n",
       "\"I\" is for innocent / Sue Grafton.                        669\n",
       "\"J\" is for judgment / Sue Grafton.                        465\n",
       "\"K\" is for killer / Sue Grafton.                          627\n",
       "\"L\" is for lawless / Sue Grafton.                         228\n",
       "\"The eye that never sleeps\" : a history of the ...         31\n",
       "#MeToo : women speak out against sexual assault...         14\n",
       "#MurderFunding / Gretchen McNeil.                           6\n",
       "#MurderTrending / Gretchen McNeil.                         44\n",
       "#fashionvictim : a novel / Amina Akhtar.                   20\n",
       "#ni una más : el femincidio en México: tema urg...          1\n",
       "$10,000 in small, unmarked puzzles / Parnell Hall.         78\n",
       "$10,000 in small, unmarked puzzles [text (large...         30\n",
       "'I Heard You Paint Houses', Updated Edition: Fr...         56\n",
       "'Til dirt do us part / Edith Maxwell,                      50\n",
       "'Twas the knife before Christmas / Jacqueline F...         15\n",
       "...And never let her go : Thomas Capano, the de...         69\n",
       "1 novella & 13 superstar short stories from the...         39\n",
       "10 lb. penalty / Dick Francis.                              6\n",
       "100 bullets : Six feet under the gun / Brian Az...        316\n",
       "...                                                       ...\n",
       "worlds finest mystery and crime stories third a...         21\n",
       "worlds most mysterious murders                             24\n",
       "wreath for Emmett Till                                     65\n",
       "writers complete crime reference book                       1\n",
       "wrong hill to die on                                        8\n",
       "wrong hill to die on an Alafair Tucker mystery             50\n",
       "wrong road                                                 15\n",
       "wtf                                                        54\n",
       "yard dog                                                   69\n",
       "year of disappearances                                     73\n",
       "yeares midnight                                             3\n",
       "yellow room conspiracy                                     24\n",
       "young wife                                                  6\n",
       "£ltimo jurado                                              25\n",
       "Án mạng tiệc Hallowe'en = Hallowe'en party / Ag...          2\n",
       "Án mạng ở công viên Gorky / Martin Cruz Smith ;...          2\n",
       "Ángeles y demonios / Dan Brown ; traducción de ...         63\n",
       "Âm thanh của im lặng : tiểu thuyết / Minh Nhật.             3\n",
       "Éclair and present danger / Laura Bradford.                30\n",
       "Điệp viên của chúa / Juan Gómez-Jurado ; người ...         33\n",
       "Độc chú / Hạ Long Hà ; An Lạc Group dịch.                  13\n",
       "Ėffekt nedostignutoĭ ︠t︡seli / Tatʹ︠i︡ana Kogan.           27\n",
       "Ėfirnoe vrem︠i︡a : roman / Polina Dashkova.                47\n",
       "Ōinaru nemuri / Chandler Raymond ; Murakami Har...          6\n",
       "︠I︡A - seriĭnyĭ ubiĭ︠t︡sa : otkroveni︠i︡a velik...          8\n",
       "︠I︡A-Malala : devochka, kotora︠i︡a borolasʹ za ...          5\n",
       "︠I︡Ad bessmerti︠i︡a : roman / Nora Roberts.                 2\n",
       "︠T︡Sena voprosa. Tom 1 / Aleksandra Marinina.              26\n",
       "︠T︡Sena voprosa. Tom 2 / Aleksandra Marinina.              25\n",
       "︠T︡S︠i︡u-︠i︡urikhʹ : roman, rasskazy / L︠i︡udmi...         28\n",
       "\n",
       "[21147 rows x 1 columns]"
      ]
     },
     "execution_count": 22,
     "metadata": {},
     "output_type": "execute_result"
    }
   ],
   "source": [
    "df_rel.groupby('Title').sum()"
   ]
  },
  {
   "cell_type": "markdown",
   "metadata": {},
   "source": [
    "From these 21147 titles, what is the largest number of checkouts for an individual book?"
   ]
  },
  {
   "cell_type": "code",
   "execution_count": 23,
   "metadata": {},
   "outputs": [
    {
     "data": {
      "text/plain": [
       "7464"
      ]
     },
     "execution_count": 23,
     "metadata": {},
     "output_type": "execute_result"
    }
   ],
   "source": [
    "np.max(df_rel.groupby('Title').sum().Checkouts)"
   ]
  },
  {
   "cell_type": "markdown",
   "metadata": {},
   "source": [
    "What about the minimum?"
   ]
  },
  {
   "cell_type": "code",
   "execution_count": 24,
   "metadata": {},
   "outputs": [
    {
     "data": {
      "text/plain": [
       "1"
      ]
     },
     "execution_count": 24,
     "metadata": {},
     "output_type": "execute_result"
    }
   ],
   "source": [
    "np.min(df_rel.groupby('Title').sum().Checkouts)"
   ]
  },
  {
   "cell_type": "markdown",
   "metadata": {},
   "source": [
    "Create a dataframe in which the titles are represented only once, and use sum to aggregate the checkouts. "
   ]
  },
  {
   "cell_type": "code",
   "execution_count": 25,
   "metadata": {},
   "outputs": [
    {
     "data": {
      "text/plain": [
       "(21147, 1)"
      ]
     },
     "execution_count": 25,
     "metadata": {},
     "output_type": "execute_result"
    }
   ],
   "source": [
    "df_merged = df_rel.pivot_table(index = 'Title', aggfunc = sum)\n",
    "df_merged.shape"
   ]
  },
  {
   "cell_type": "code",
   "execution_count": 26,
   "metadata": {},
   "outputs": [
    {
     "data": {
      "text/html": [
       "<div>\n",
       "<style scoped>\n",
       "    .dataframe tbody tr th:only-of-type {\n",
       "        vertical-align: middle;\n",
       "    }\n",
       "\n",
       "    .dataframe tbody tr th {\n",
       "        vertical-align: top;\n",
       "    }\n",
       "\n",
       "    .dataframe thead th {\n",
       "        text-align: right;\n",
       "    }\n",
       "</style>\n",
       "<table border=\"1\" class=\"dataframe\">\n",
       "  <thead>\n",
       "    <tr style=\"text-align: right;\">\n",
       "      <th></th>\n",
       "      <th>Title</th>\n",
       "      <th>Checkouts</th>\n",
       "    </tr>\n",
       "  </thead>\n",
       "  <tbody>\n",
       "    <tr>\n",
       "      <th>0</th>\n",
       "      <td>\"A revolting transaction\" / by Barnaby Conrad.</td>\n",
       "      <td>4</td>\n",
       "    </tr>\n",
       "    <tr>\n",
       "      <th>1</th>\n",
       "      <td>\"B\" is for burglar / Sue Grafton.</td>\n",
       "      <td>192</td>\n",
       "    </tr>\n",
       "    <tr>\n",
       "      <th>2</th>\n",
       "      <td>\"Broken windows\" and police discretion / Georg...</td>\n",
       "      <td>4</td>\n",
       "    </tr>\n",
       "    <tr>\n",
       "      <th>3</th>\n",
       "      <td>\"D\" is for deadbeat / Sue Grafton.</td>\n",
       "      <td>92</td>\n",
       "    </tr>\n",
       "    <tr>\n",
       "      <th>4</th>\n",
       "      <td>\"E\" is for evidence / Sue Grafton.</td>\n",
       "      <td>662</td>\n",
       "    </tr>\n",
       "  </tbody>\n",
       "</table>\n",
       "</div>"
      ],
      "text/plain": [
       "                                               Title  Checkouts\n",
       "0     \"A revolting transaction\" / by Barnaby Conrad.          4\n",
       "1                  \"B\" is for burglar / Sue Grafton.        192\n",
       "2  \"Broken windows\" and police discretion / Georg...          4\n",
       "3                 \"D\" is for deadbeat / Sue Grafton.         92\n",
       "4                 \"E\" is for evidence / Sue Grafton.        662"
      ]
     },
     "execution_count": 26,
     "metadata": {},
     "output_type": "execute_result"
    }
   ],
   "source": [
    "df_merged.reset_index(inplace=True)\n",
    "df_merged.head()"
   ]
  },
  {
   "cell_type": "code",
   "execution_count": 27,
   "metadata": {},
   "outputs": [
    {
     "data": {
      "text/html": [
       "<div>\n",
       "<style scoped>\n",
       "    .dataframe tbody tr th:only-of-type {\n",
       "        vertical-align: middle;\n",
       "    }\n",
       "\n",
       "    .dataframe tbody tr th {\n",
       "        vertical-align: top;\n",
       "    }\n",
       "\n",
       "    .dataframe thead th {\n",
       "        text-align: right;\n",
       "    }\n",
       "</style>\n",
       "<table border=\"1\" class=\"dataframe\">\n",
       "  <thead>\n",
       "    <tr style=\"text-align: right;\">\n",
       "      <th></th>\n",
       "      <th>Title</th>\n",
       "      <th>Checkouts</th>\n",
       "    </tr>\n",
       "  </thead>\n",
       "  <tbody>\n",
       "    <tr>\n",
       "      <th>count</th>\n",
       "      <td>21147</td>\n",
       "      <td>21147.000000</td>\n",
       "    </tr>\n",
       "    <tr>\n",
       "      <th>unique</th>\n",
       "      <td>21147</td>\n",
       "      <td>NaN</td>\n",
       "    </tr>\n",
       "    <tr>\n",
       "      <th>top</th>\n",
       "      <td>Half pass / Astrid Amara.</td>\n",
       "      <td>NaN</td>\n",
       "    </tr>\n",
       "    <tr>\n",
       "      <th>freq</th>\n",
       "      <td>1</td>\n",
       "      <td>NaN</td>\n",
       "    </tr>\n",
       "    <tr>\n",
       "      <th>mean</th>\n",
       "      <td>NaN</td>\n",
       "      <td>89.850381</td>\n",
       "    </tr>\n",
       "    <tr>\n",
       "      <th>std</th>\n",
       "      <td>NaN</td>\n",
       "      <td>220.701904</td>\n",
       "    </tr>\n",
       "    <tr>\n",
       "      <th>min</th>\n",
       "      <td>NaN</td>\n",
       "      <td>1.000000</td>\n",
       "    </tr>\n",
       "    <tr>\n",
       "      <th>25%</th>\n",
       "      <td>NaN</td>\n",
       "      <td>13.000000</td>\n",
       "    </tr>\n",
       "    <tr>\n",
       "      <th>50%</th>\n",
       "      <td>NaN</td>\n",
       "      <td>34.000000</td>\n",
       "    </tr>\n",
       "    <tr>\n",
       "      <th>75%</th>\n",
       "      <td>NaN</td>\n",
       "      <td>79.000000</td>\n",
       "    </tr>\n",
       "    <tr>\n",
       "      <th>max</th>\n",
       "      <td>NaN</td>\n",
       "      <td>7464.000000</td>\n",
       "    </tr>\n",
       "  </tbody>\n",
       "</table>\n",
       "</div>"
      ],
      "text/plain": [
       "                            Title     Checkouts\n",
       "count                       21147  21147.000000\n",
       "unique                      21147           NaN\n",
       "top     Half pass / Astrid Amara.           NaN\n",
       "freq                            1           NaN\n",
       "mean                          NaN     89.850381\n",
       "std                           NaN    220.701904\n",
       "min                           NaN      1.000000\n",
       "25%                           NaN     13.000000\n",
       "50%                           NaN     34.000000\n",
       "75%                           NaN     79.000000\n",
       "max                           NaN   7464.000000"
      ]
     },
     "execution_count": 27,
     "metadata": {},
     "output_type": "execute_result"
    }
   ],
   "source": [
    "df_merged.describe(include='all')"
   ]
  },
  {
   "cell_type": "markdown",
   "metadata": {},
   "source": [
    "Now with the Titles more in line with reality (there could still be duplicates that did not merge, due to maybe one misspelled word or one extra space, but hopefully that error rate is really small) let's check the distribution of checkouts again:"
   ]
  },
  {
   "cell_type": "code",
   "execution_count": 28,
   "metadata": {},
   "outputs": [
    {
     "data": {
      "image/png": "[encoded data removed]",
      "text/plain": [
       "<Figure size 432x288 with 1 Axes>"
      ]
     },
     "metadata": {},
     "output_type": "display_data"
    }
   ],
   "source": [
    "sns.set()\n",
    "df_merged['Checkouts'].hist(bins=100)\n",
    "plt.show()"
   ]
  },
  {
   "cell_type": "code",
   "execution_count": 29,
   "metadata": {},
   "outputs": [
    {
     "data": {
      "image/png": "[encoded data removed]",
      "text/plain": [
       "<Figure size 432x288 with 1 Axes>"
      ]
     },
     "metadata": {},
     "output_type": "display_data"
    }
   ],
   "source": [
    "sns.set()\n",
    "df_merged['Checkouts'].apply(np.log).hist(bins=100)\n",
    "plt.show()"
   ]
  },
  {
   "cell_type": "markdown",
   "metadata": {},
   "source": [
    "Taking a quick look at the title space:\n"
   ]
  },
  {
   "cell_type": "code",
   "execution_count": 30,
   "metadata": {},
   "outputs": [
    {
     "name": "stdout",
     "output_type": "stream",
     "text": [
      "[nltk_data] Downloading package punkt to /Users/oana/nltk_data...\n",
      "[nltk_data]   Package punkt is already up-to-date!\n",
      "[nltk_data] Downloading package stopwords to /Users/oana/nltk_data...\n",
      "[nltk_data]   Unzipping corpora/stopwords.zip.\n",
      "[nltk_data] Downloading package wordnet to /Users/oana/nltk_data...\n",
      "[nltk_data]   Package wordnet is already up-to-date!\n"
     ]
    }
   ],
   "source": [
    "import nltk\n",
    "nltk.download('punkt')\n",
    "nltk.download('stopwords')\n",
    "nltk.download('wordnet')\n",
    "from nltk.tokenize import word_tokenize\n",
    "from collections import Counter"
   ]
  },
  {
   "cell_type": "markdown",
   "metadata": {},
   "source": [
    "Most common words in the titles:"
   ]
  },
  {
   "cell_type": "code",
   "execution_count": 31,
   "metadata": {},
   "outputs": [],
   "source": [
    "#Initialize emply list of words\n",
    "list_of_words = []\n",
    "#turn each title into a list of words, append this list to the list_of_words\n",
    "for title in df_merged['Title']:\n",
    "    tokens = [w for w in word_tokenize(title.lower()) \n",
    "                  if w.isalpha()]\n",
    "    #Eliminate stop words in English\n",
    "    #no_stop_words = [t for t in tokens \n",
    "    #                if t not in stopwords.words('english')]\n",
    "    list_of_words.append(tokens)\n",
    "#Function to flatten the list of lists obtained:\n",
    "def flatten(inputdata):\n",
    "    flat_list = [item for sublist in inputdata for item in sublist]\n",
    "    return flat_list\n",
    "all_words = flatten(list_of_words)\n",
    "df_merged['Words'] = list_of_words"
   ]
  },
  {
   "cell_type": "code",
   "execution_count": 32,
   "metadata": {},
   "outputs": [
    {
     "name": "stdout",
     "output_type": "stream",
     "text": [
      "156997 words in total, with a vocabulary size of 20307\n",
      "Max title length is 87 words\n"
     ]
    }
   ],
   "source": [
    "# Closer look at the data\n",
    "title_words = [word for titles in list_of_words for word in titles]\n",
    "title_lengths = [len(titles) for titles in list_of_words]\n",
    "VOCAB = sorted(list(set(title_words)))\n",
    "print(\"%s words in total, with a vocabulary size of %s\" % (len(title_words), len(VOCAB)))\n",
    "print(\"Max title length is %s words\" % max(title_lengths))"
   ]
  },
  {
   "cell_type": "code",
   "execution_count": 33,
   "metadata": {},
   "outputs": [
    {
     "data": {
      "image/png": "[encoded data removed]",
      "text/plain": [
       "<Figure size 360x360 with 1 Axes>"
      ]
     },
     "metadata": {},
     "output_type": "display_data"
    }
   ],
   "source": [
    "# Plot histogram\n",
    "fig = plt.figure(figsize=(5, 5)) \n",
    "plt.xlabel('Number of words per title')\n",
    "plt.hist(title_lengths, bins=100)\n",
    "plt.show()"
   ]
  },
  {
   "cell_type": "code",
   "execution_count": 35,
   "metadata": {},
   "outputs": [
    {
     "data": {
      "image/png": "[encoded data removed]",
      "text/plain": [
       "<Figure size 864x216 with 1 Axes>"
      ]
     },
     "metadata": {},
     "output_type": "display_data"
    }
   ],
   "source": [
    "# Plot most frequent words in titles\n",
    "x0=nltk.FreqDist(all_words)\n",
    "_=plt.figure(figsize=(12,3))\n",
    "_=plt.title('Most frequently used words in the crime book dataset')\n",
    "_=x0.plot(30)"
   ]
  },
  {
   "cell_type": "code",
   "execution_count": null,
   "metadata": {},
   "outputs": [],
   "source": []
  }
 ],
 "metadata": {
  "kernelspec": {
   "display_name": "Python 3",
   "language": "python",
   "name": "python3"
  },
  "language_info": {
   "codemirror_mode": {
    "name": "ipython",
    "version": 3
   },
   "file_extension": ".py",
   "mimetype": "text/x-python",
   "name": "python",
   "nbconvert_exporter": "python",
   "pygments_lexer": "ipython3",
   "version": "3.6.8"
  }
 },
 "nbformat": 4,
 "nbformat_minor": 2
}
